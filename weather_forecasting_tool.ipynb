{
  "nbformat": 4,
  "nbformat_minor": 0,
  "metadata": {
    "colab": {
      "provenance": []
    },
    "kernelspec": {
      "name": "python3",
      "display_name": "Python 3"
    },
    "language_info": {
      "name": "python"
    }
  },
  "cells": [
    {
      "cell_type": "code",
      "execution_count": null,
      "metadata": {
        "id": "IJaqOQAd4PCu"
      },
      "outputs": [],
      "source": [
        "import requests\n",
        "import json\n",
        "\n",
        "def get_weather(city):\n",
        "  \"\"\"Gets the current weather forecast for a city.\n",
        "\n",
        "  Args:\n",
        "    city: The name of the city.\n",
        "\n",
        "  Returns:\n",
        "    A dictionary containing the weather forecast.\n",
        "  \"\"\"\n",
        "\n",
        "  api_key = \"YOUR_API_KEY\"\n",
        "  base_url = \"https://api.openweathermap.org/data/2.5/weather?\"\n",
        "\n",
        "  complete_url = base_url + \"appid=\" + api_key + \"&q=\" + city\n",
        "\n",
        "  response = requests.get(complete_url)\n",
        "\n",
        "  if response.status_code == 200:\n",
        "    data = response.json()\n",
        "    return data\n",
        "  else:\n",
        "    raise Exception(\"Error getting weather data: {}\".format(response.status_code))\n",
        "\n",
        "def main():\n",
        "  city = input(\"Enter the city name: \")\n",
        "  weather = get_weather(city)\n",
        "\n",
        "  print(\"The current weather in {} is: \".format(city))\n",
        "  print(weather)\n",
        "\n",
        "if __name__ == \"__main__\":\n",
        "  main()"
      ]
    }
  ]
}